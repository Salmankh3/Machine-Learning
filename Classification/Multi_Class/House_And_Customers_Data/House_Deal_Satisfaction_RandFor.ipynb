{
 "cells": [
  {
   "cell_type": "markdown",
   "metadata": {},
   "source": [
    "# IMPORTING LIBRARIES"
   ]
  },
  {
   "cell_type": "code",
   "execution_count": 1,
   "metadata": {},
   "outputs": [
    {
     "name": "stderr",
     "output_type": "stream",
     "text": [
      "C:\\Users\\hp\\Anaconda3\\lib\\site-packages\\sklearn\\ensemble\\weight_boosting.py:29: DeprecationWarning: numpy.core.umath_tests is an internal NumPy module and should not be imported. It will be removed in a future NumPy release.\n",
      "  from numpy.core.umath_tests import inner1d\n"
     ]
    }
   ],
   "source": [
    "import numpy as np\n",
    "import pandas as pd\n",
    "import matplotlib.pyplot as plt\n",
    "from sklearn.preprocessing import LabelEncoder\n",
    "from sklearn.model_selection import train_test_split\n",
    "from sklearn.ensemble import RandomForestClassifier\n",
    "from sklearn.metrics import accuracy_score, confusion_matrix"
   ]
  },
  {
   "cell_type": "markdown",
   "metadata": {},
   "source": [
    "# LOADING DATASETS"
   ]
  },
  {
   "cell_type": "code",
   "execution_count": 2,
   "metadata": {},
   "outputs": [
    {
     "data": {
      "text/html": [
       "<div>\n",
       "<style scoped>\n",
       "    .dataframe tbody tr th:only-of-type {\n",
       "        vertical-align: middle;\n",
       "    }\n",
       "\n",
       "    .dataframe tbody tr th {\n",
       "        vertical-align: top;\n",
       "    }\n",
       "\n",
       "    .dataframe thead th {\n",
       "        text-align: right;\n",
       "    }\n",
       "</style>\n",
       "<table border=\"1\" class=\"dataframe\">\n",
       "  <thead>\n",
       "    <tr style=\"text-align: right;\">\n",
       "      <th></th>\n",
       "      <th>ID</th>\n",
       "      <th>Building</th>\n",
       "      <th>Year of sale</th>\n",
       "      <th>Month of sale</th>\n",
       "      <th>Type of property</th>\n",
       "      <th>Property #</th>\n",
       "      <th>Area (ft.)</th>\n",
       "      <th>Price</th>\n",
       "      <th>Status</th>\n",
       "    </tr>\n",
       "  </thead>\n",
       "  <tbody>\n",
       "    <tr>\n",
       "      <th>0</th>\n",
       "      <td>1030</td>\n",
       "      <td>1</td>\n",
       "      <td>2005.0</td>\n",
       "      <td>11.0</td>\n",
       "      <td>Apartment</td>\n",
       "      <td>30</td>\n",
       "      <td>743.09</td>\n",
       "      <td>246172.68</td>\n",
       "      <td>Sold</td>\n",
       "    </tr>\n",
       "    <tr>\n",
       "      <th>1</th>\n",
       "      <td>1029</td>\n",
       "      <td>1</td>\n",
       "      <td>2005.0</td>\n",
       "      <td>10.0</td>\n",
       "      <td>Apartment</td>\n",
       "      <td>29</td>\n",
       "      <td>756.21</td>\n",
       "      <td>246331.90</td>\n",
       "      <td>Sold</td>\n",
       "    </tr>\n",
       "    <tr>\n",
       "      <th>2</th>\n",
       "      <td>2002</td>\n",
       "      <td>2</td>\n",
       "      <td>2007.0</td>\n",
       "      <td>7.0</td>\n",
       "      <td>Apartment</td>\n",
       "      <td>2</td>\n",
       "      <td>587.28</td>\n",
       "      <td>209280.91</td>\n",
       "      <td>Sold</td>\n",
       "    </tr>\n",
       "    <tr>\n",
       "      <th>3</th>\n",
       "      <td>2031</td>\n",
       "      <td>2</td>\n",
       "      <td>2007.0</td>\n",
       "      <td>12.0</td>\n",
       "      <td>Apartment</td>\n",
       "      <td>31</td>\n",
       "      <td>1604.75</td>\n",
       "      <td>452667.01</td>\n",
       "      <td>Sold</td>\n",
       "    </tr>\n",
       "    <tr>\n",
       "      <th>4</th>\n",
       "      <td>1049</td>\n",
       "      <td>1</td>\n",
       "      <td>2004.0</td>\n",
       "      <td>11.0</td>\n",
       "      <td>Apartment</td>\n",
       "      <td>49</td>\n",
       "      <td>1375.45</td>\n",
       "      <td>467083.31</td>\n",
       "      <td>Sold</td>\n",
       "    </tr>\n",
       "  </tbody>\n",
       "</table>\n",
       "</div>"
      ],
      "text/plain": [
       "     ID  Building  Year of sale  Month of sale Type of property  Property #  \\\n",
       "0  1030         1        2005.0           11.0        Apartment          30   \n",
       "1  1029         1        2005.0           10.0        Apartment          29   \n",
       "2  2002         2        2007.0            7.0        Apartment           2   \n",
       "3  2031         2        2007.0           12.0        Apartment          31   \n",
       "4  1049         1        2004.0           11.0        Apartment          49   \n",
       "\n",
       "   Area (ft.)      Price  Status  \n",
       "0      743.09  246172.68   Sold   \n",
       "1      756.21  246331.90   Sold   \n",
       "2      587.28  209280.91   Sold   \n",
       "3     1604.75  452667.01   Sold   \n",
       "4     1375.45  467083.31   Sold   "
      ]
     },
     "execution_count": 2,
     "metadata": {},
     "output_type": "execute_result"
    }
   ],
   "source": [
    "product = pd.read_csv(\"product.csv\")\n",
    "product.head()"
   ]
  },
  {
   "cell_type": "code",
   "execution_count": 3,
   "metadata": {},
   "outputs": [
    {
     "data": {
      "text/html": [
       "<div>\n",
       "<style scoped>\n",
       "    .dataframe tbody tr th:only-of-type {\n",
       "        vertical-align: middle;\n",
       "    }\n",
       "\n",
       "    .dataframe tbody tr th {\n",
       "        vertical-align: top;\n",
       "    }\n",
       "\n",
       "    .dataframe thead th {\n",
       "        text-align: right;\n",
       "    }\n",
       "</style>\n",
       "<table border=\"1\" class=\"dataframe\">\n",
       "  <thead>\n",
       "    <tr style=\"text-align: right;\">\n",
       "      <th></th>\n",
       "      <th>Customer ID</th>\n",
       "      <th>Entity</th>\n",
       "      <th>Name</th>\n",
       "      <th>Surname</th>\n",
       "      <th>Age at time of purchase</th>\n",
       "      <th>Interval</th>\n",
       "      <th>Y</th>\n",
       "      <th>M</th>\n",
       "      <th>D</th>\n",
       "      <th>Gender</th>\n",
       "      <th>Country</th>\n",
       "      <th>State</th>\n",
       "      <th>Purpose</th>\n",
       "      <th>Deal satisfaction</th>\n",
       "      <th>Mortgage</th>\n",
       "      <th>Source</th>\n",
       "    </tr>\n",
       "  </thead>\n",
       "  <tbody>\n",
       "    <tr>\n",
       "      <th>0</th>\n",
       "      <td>C0028</td>\n",
       "      <td>Individual</td>\n",
       "      <td>Madalyn</td>\n",
       "      <td>Mercer</td>\n",
       "      <td>19.00</td>\n",
       "      <td>18-25</td>\n",
       "      <td>1986.0</td>\n",
       "      <td>6.0</td>\n",
       "      <td>21.0</td>\n",
       "      <td>F</td>\n",
       "      <td>USA</td>\n",
       "      <td>California</td>\n",
       "      <td>Home</td>\n",
       "      <td>5.0</td>\n",
       "      <td>No</td>\n",
       "      <td>Website</td>\n",
       "    </tr>\n",
       "    <tr>\n",
       "      <th>1</th>\n",
       "      <td>C0027</td>\n",
       "      <td>Individual</td>\n",
       "      <td>Lara</td>\n",
       "      <td>Carrillo</td>\n",
       "      <td>22.00</td>\n",
       "      <td>18-25</td>\n",
       "      <td>1983.0</td>\n",
       "      <td>2.0</td>\n",
       "      <td>24.0</td>\n",
       "      <td>F</td>\n",
       "      <td>USA</td>\n",
       "      <td>California</td>\n",
       "      <td>Home</td>\n",
       "      <td>5.0</td>\n",
       "      <td>No</td>\n",
       "      <td>Website</td>\n",
       "    </tr>\n",
       "    <tr>\n",
       "      <th>2</th>\n",
       "      <td>C0112</td>\n",
       "      <td>Individual</td>\n",
       "      <td>Donavan</td>\n",
       "      <td>Flowers</td>\n",
       "      <td>22.00</td>\n",
       "      <td>18-25</td>\n",
       "      <td>1985.0</td>\n",
       "      <td>12.0</td>\n",
       "      <td>27.0</td>\n",
       "      <td>M</td>\n",
       "      <td>USA</td>\n",
       "      <td>California</td>\n",
       "      <td>Home</td>\n",
       "      <td>1.0</td>\n",
       "      <td>Yes</td>\n",
       "      <td>Client</td>\n",
       "    </tr>\n",
       "    <tr>\n",
       "      <th>3</th>\n",
       "      <td>C0160</td>\n",
       "      <td>Individual</td>\n",
       "      <td>Darien</td>\n",
       "      <td>Dorsey</td>\n",
       "      <td>22.00</td>\n",
       "      <td>18-25</td>\n",
       "      <td>1985.0</td>\n",
       "      <td>12.0</td>\n",
       "      <td>27.0</td>\n",
       "      <td>M</td>\n",
       "      <td>USA</td>\n",
       "      <td>California</td>\n",
       "      <td>Investment</td>\n",
       "      <td>3.0</td>\n",
       "      <td>Yes</td>\n",
       "      <td>Website</td>\n",
       "    </tr>\n",
       "    <tr>\n",
       "      <th>4</th>\n",
       "      <td>C0014</td>\n",
       "      <td>Individual</td>\n",
       "      <td>Alessandra</td>\n",
       "      <td>Perry</td>\n",
       "      <td>25.00</td>\n",
       "      <td>18-25</td>\n",
       "      <td>1979.0</td>\n",
       "      <td>5.0</td>\n",
       "      <td>15.0</td>\n",
       "      <td>F</td>\n",
       "      <td>USA</td>\n",
       "      <td>California</td>\n",
       "      <td>Home</td>\n",
       "      <td>4.0</td>\n",
       "      <td>No</td>\n",
       "      <td>Agency</td>\n",
       "    </tr>\n",
       "  </tbody>\n",
       "</table>\n",
       "</div>"
      ],
      "text/plain": [
       "  Customer ID      Entity        Name   Surname Age at time of purchase  \\\n",
       "0       C0028  Individual     Madalyn    Mercer                   19.00   \n",
       "1       C0027  Individual        Lara  Carrillo                   22.00   \n",
       "2       C0112  Individual     Donavan   Flowers                   22.00   \n",
       "3       C0160  Individual      Darien    Dorsey                   22.00   \n",
       "4       C0014  Individual  Alessandra     Perry                   25.00   \n",
       "\n",
       "  Interval       Y     M     D Gender Country       State     Purpose  \\\n",
       "0    18-25  1986.0   6.0  21.0      F     USA  California        Home   \n",
       "1    18-25  1983.0   2.0  24.0      F     USA  California        Home   \n",
       "2    18-25  1985.0  12.0  27.0      M     USA  California        Home   \n",
       "3    18-25  1985.0  12.0  27.0      M     USA  California  Investment   \n",
       "4    18-25  1979.0   5.0  15.0      F     USA  California        Home   \n",
       "\n",
       "   Deal satisfaction Mortgage   Source  \n",
       "0                5.0       No  Website  \n",
       "1                5.0       No  Website  \n",
       "2                1.0      Yes   Client  \n",
       "3                3.0      Yes  Website  \n",
       "4                4.0       No   Agency  "
      ]
     },
     "execution_count": 3,
     "metadata": {},
     "output_type": "execute_result"
    }
   ],
   "source": [
    "customer = pd.read_csv(\"customer.csv\")\n",
    "customer.head()"
   ]
  },
  {
   "cell_type": "markdown",
   "metadata": {},
   "source": [
    "# ACTUAL DATA PREPARATION"
   ]
  },
  {
   "cell_type": "markdown",
   "metadata": {},
   "source": [
    "We have to make two sets of data, i.e. \n",
    "\n",
    "- x set of the attributes of house from the product dataset (Area.ft & Price)\n",
    "- y set of the target function containing 1 to 5 ratings from the customer dataset (Deal Satisfaction Ratings)"
   ]
  },
  {
   "cell_type": "code",
   "execution_count": 4,
   "metadata": {},
   "outputs": [],
   "source": [
    "dict_data = {\"Area (ft)\":product[\"Area (ft.)\"], \"Price\":product[\"Price\"]}\n",
    "house_measure = pd.DataFrame(data=dict_data)"
   ]
  },
  {
   "cell_type": "code",
   "execution_count": 5,
   "metadata": {},
   "outputs": [
    {
     "data": {
      "text/html": [
       "<div>\n",
       "<style scoped>\n",
       "    .dataframe tbody tr th:only-of-type {\n",
       "        vertical-align: middle;\n",
       "    }\n",
       "\n",
       "    .dataframe tbody tr th {\n",
       "        vertical-align: top;\n",
       "    }\n",
       "\n",
       "    .dataframe thead th {\n",
       "        text-align: right;\n",
       "    }\n",
       "</style>\n",
       "<table border=\"1\" class=\"dataframe\">\n",
       "  <thead>\n",
       "    <tr style=\"text-align: right;\">\n",
       "      <th></th>\n",
       "      <th>Area (ft)</th>\n",
       "      <th>Price</th>\n",
       "    </tr>\n",
       "  </thead>\n",
       "  <tbody>\n",
       "    <tr>\n",
       "      <th>190</th>\n",
       "      <td>1160.36</td>\n",
       "      <td>398903.42</td>\n",
       "    </tr>\n",
       "    <tr>\n",
       "      <th>191</th>\n",
       "      <td>743.09</td>\n",
       "      <td>210745.17</td>\n",
       "    </tr>\n",
       "    <tr>\n",
       "      <th>192</th>\n",
       "      <td>1160.36</td>\n",
       "      <td>331154.88</td>\n",
       "    </tr>\n",
       "    <tr>\n",
       "      <th>193</th>\n",
       "      <td>625.80</td>\n",
       "      <td>204434.68</td>\n",
       "    </tr>\n",
       "    <tr>\n",
       "      <th>194</th>\n",
       "      <td>756.21</td>\n",
       "      <td>189194.31</td>\n",
       "    </tr>\n",
       "  </tbody>\n",
       "</table>\n",
       "</div>"
      ],
      "text/plain": [
       "     Area (ft)      Price\n",
       "190    1160.36  398903.42\n",
       "191     743.09  210745.17\n",
       "192    1160.36  331154.88\n",
       "193     625.80  204434.68\n",
       "194     756.21  189194.31"
      ]
     },
     "execution_count": 5,
     "metadata": {},
     "output_type": "execute_result"
    }
   ],
   "source": [
    "x = house_measure[0:195]\n",
    "x.tail()"
   ]
  },
  {
   "cell_type": "code",
   "execution_count": 6,
   "metadata": {},
   "outputs": [
    {
     "data": {
      "text/plain": [
       "191    5\n",
       "192    5\n",
       "193    5\n",
       "194    5\n",
       "195    5\n",
       "Name: Deal satisfaction, dtype: object"
      ]
     },
     "execution_count": 6,
     "metadata": {},
     "output_type": "execute_result"
    }
   ],
   "source": [
    "y = customer[\"Deal satisfaction\"].dropna().astype(\"O\")\n",
    "y.tail()"
   ]
  },
  {
   "cell_type": "code",
   "execution_count": 203,
   "metadata": {},
   "outputs": [
    {
     "data": {
      "text/plain": [
       "(array([0, 1, 2, 3, 4], dtype=int64), array([20, 25, 39, 39, 72], dtype=int64))"
      ]
     },
     "execution_count": 203,
     "metadata": {},
     "output_type": "execute_result"
    }
   ],
   "source": [
    "np.unique(y,return_counts=True)"
   ]
  },
  {
   "cell_type": "code",
   "execution_count": 7,
   "metadata": {},
   "outputs": [],
   "source": [
    "le = LabelEncoder()"
   ]
  },
  {
   "cell_type": "code",
   "execution_count": 8,
   "metadata": {},
   "outputs": [
    {
     "data": {
      "text/plain": [
       "LabelEncoder()"
      ]
     },
     "execution_count": 8,
     "metadata": {},
     "output_type": "execute_result"
    }
   ],
   "source": [
    "le.fit(y)"
   ]
  },
  {
   "cell_type": "code",
   "execution_count": 9,
   "metadata": {},
   "outputs": [
    {
     "data": {
      "text/plain": [
       "array([4, 4, 0, 2, 3, 4, 4, 4, 1, 2, 0, 4, 2, 1, 4, 4, 3, 3, 4, 2, 4, 4,\n",
       "       4, 3, 3, 4, 0, 0, 2, 3, 1, 2, 3, 2, 1, 4, 2, 0, 0, 4, 4, 1, 2, 1,\n",
       "       4, 0, 2, 3, 1, 0, 3, 4, 4, 0, 1, 3, 2, 2, 0, 1, 1, 1, 4, 4, 0, 3,\n",
       "       4, 2, 4, 3, 3, 4, 0, 4, 3, 2, 2, 0, 2, 3, 1, 2, 3, 1, 4, 3, 4, 4,\n",
       "       1, 4, 3, 1, 0, 4, 4, 0, 1, 0, 0, 3, 4, 3, 3, 4, 4, 3, 1, 2, 2, 2,\n",
       "       4, 4, 4, 4, 2, 2, 2, 4, 3, 3, 3, 3, 2, 3, 3, 3, 3, 1, 1, 2, 1, 1,\n",
       "       4, 4, 2, 2, 4, 4, 3, 2, 2, 3, 2, 4, 3, 2, 4, 4, 4, 4, 4, 4, 4, 4,\n",
       "       3, 3, 2, 3, 2, 0, 4, 4, 3, 4, 1, 4, 2, 1, 4, 4, 2, 2, 1, 1, 2, 4,\n",
       "       3, 2, 4, 4, 3, 4, 0, 0, 4, 2, 4, 4, 4, 4, 4, 4, 4, 4, 4],\n",
       "      dtype=int64)"
      ]
     },
     "execution_count": 9,
     "metadata": {},
     "output_type": "execute_result"
    }
   ],
   "source": [
    "y = le.transform(y)\n",
    "y"
   ]
  },
  {
   "cell_type": "markdown",
   "metadata": {},
   "source": [
    "# SOME DESCRIPTIVE ANALYSIS ON 'x' DATASET"
   ]
  },
  {
   "cell_type": "code",
   "execution_count": 10,
   "metadata": {},
   "outputs": [
    {
     "data": {
      "text/html": [
       "<div>\n",
       "<style scoped>\n",
       "    .dataframe tbody tr th:only-of-type {\n",
       "        vertical-align: middle;\n",
       "    }\n",
       "\n",
       "    .dataframe tbody tr th {\n",
       "        vertical-align: top;\n",
       "    }\n",
       "\n",
       "    .dataframe thead th {\n",
       "        text-align: right;\n",
       "    }\n",
       "</style>\n",
       "<table border=\"1\" class=\"dataframe\">\n",
       "  <thead>\n",
       "    <tr style=\"text-align: right;\">\n",
       "      <th></th>\n",
       "      <th>Area (ft)</th>\n",
       "      <th>Price</th>\n",
       "    </tr>\n",
       "  </thead>\n",
       "  <tbody>\n",
       "    <tr>\n",
       "      <th>count</th>\n",
       "      <td>195.000000</td>\n",
       "      <td>195.000000</td>\n",
       "    </tr>\n",
       "    <tr>\n",
       "      <th>mean</th>\n",
       "      <td>905.732154</td>\n",
       "      <td>271120.972667</td>\n",
       "    </tr>\n",
       "    <tr>\n",
       "      <th>std</th>\n",
       "      <td>268.054294</td>\n",
       "      <td>82179.704080</td>\n",
       "    </tr>\n",
       "    <tr>\n",
       "      <th>min</th>\n",
       "      <td>410.710000</td>\n",
       "      <td>117564.070000</td>\n",
       "    </tr>\n",
       "    <tr>\n",
       "      <th>25%</th>\n",
       "      <td>743.090000</td>\n",
       "      <td>213231.695000</td>\n",
       "    </tr>\n",
       "    <tr>\n",
       "      <th>50%</th>\n",
       "      <td>790.540000</td>\n",
       "      <td>244820.670000</td>\n",
       "    </tr>\n",
       "    <tr>\n",
       "      <th>75%</th>\n",
       "      <td>1101.125000</td>\n",
       "      <td>310400.165000</td>\n",
       "    </tr>\n",
       "    <tr>\n",
       "      <th>max</th>\n",
       "      <td>1942.500000</td>\n",
       "      <td>532877.380000</td>\n",
       "    </tr>\n",
       "  </tbody>\n",
       "</table>\n",
       "</div>"
      ],
      "text/plain": [
       "         Area (ft)          Price\n",
       "count   195.000000     195.000000\n",
       "mean    905.732154  271120.972667\n",
       "std     268.054294   82179.704080\n",
       "min     410.710000  117564.070000\n",
       "25%     743.090000  213231.695000\n",
       "50%     790.540000  244820.670000\n",
       "75%    1101.125000  310400.165000\n",
       "max    1942.500000  532877.380000"
      ]
     },
     "execution_count": 10,
     "metadata": {},
     "output_type": "execute_result"
    }
   ],
   "source": [
    "# description of x set\n",
    "\n",
    "x.describe()"
   ]
  },
  {
   "cell_type": "code",
   "execution_count": 11,
   "metadata": {},
   "outputs": [
    {
     "data": {
      "text/plain": [
       "dtype('int64')"
      ]
     },
     "execution_count": 11,
     "metadata": {},
     "output_type": "execute_result"
    }
   ],
   "source": [
    "# description of y set\n",
    "\n",
    "y.dtype"
   ]
  },
  {
   "cell_type": "code",
   "execution_count": 12,
   "metadata": {},
   "outputs": [
    {
     "name": "stdout",
     "output_type": "stream",
     "text": [
      "           Area (ft)     Price\n",
      "Area (ft)   1.000000  0.944204\n",
      "Price       0.944204  1.000000\n",
      "\n",
      "Both the attributes of x are highly correlated\n"
     ]
    }
   ],
   "source": [
    "# Correlation matrix of x set\n",
    "\n",
    "print(x.corr())\n",
    "print(\"\\nBoth the attributes of x are highly correlated\")"
   ]
  },
  {
   "cell_type": "code",
   "execution_count": 13,
   "metadata": {},
   "outputs": [
    {
     "data": {
      "image/png": "[encoded data removed]",
      "text/plain": [
       "<Figure size 720x504 with 1 Axes>"
      ]
     },
     "metadata": {
      "needs_background": "light"
     },
     "output_type": "display_data"
    }
   ],
   "source": [
    "# Scatter Plot of the attributes\n",
    "\n",
    "plt.figure(figsize=(10,7))\n",
    "plt.title(\"Scatter Plot Of Attributes\",fontsize=15)\n",
    "plt.xlabel(\"Area (ft)\",fontsize=13)\n",
    "plt.ylabel(\"Price\",fontsize=13)\n",
    "plt.scatter(x[\"Area (ft)\"],x[\"Price\"])\n",
    "plt.show()"
   ]
  },
  {
   "cell_type": "code",
   "execution_count": 14,
   "metadata": {},
   "outputs": [
    {
     "name": "stdout",
     "output_type": "stream",
     "text": [
      "Max value of Area (ft) is  1942.5\n",
      "Max value of Price is  532877.38\n",
      "Min value of Area (ft) is  410.71\n",
      "Min value of Price is  117564.07\n"
     ]
    }
   ],
   "source": [
    "# max and min values of attributes\n",
    "\n",
    "print(\"Max value of Area (ft) is \",x[\"Area (ft)\"].max())\n",
    "print(\"Max value of Price is \",x[\"Price\"].max())\n",
    "print(\"Min value of Area (ft) is \",x[\"Area (ft)\"].min())\n",
    "print(\"Min value of Price is \",x[\"Price\"].min())"
   ]
  },
  {
   "cell_type": "code",
   "execution_count": 15,
   "metadata": {},
   "outputs": [
    {
     "name": "stdout",
     "output_type": "stream",
     "text": [
      "==== Means ====\n",
      "Mean Value of Area (ft):  905.7321538461538\n",
      "Mean Value of Price:  271120.9726666669\n",
      "\n",
      "==== Medians ====\n",
      "Median Value of Area (ft):  790.54\n",
      "Median Value of Prtce:  244820.67\n",
      "\n",
      "==== Standard Deviations ====\n",
      "Standard Deviation of Area (ft):  268.05429392614514\n",
      "Standard Deviation of Price:  82179.70408008099\n"
     ]
    }
   ],
   "source": [
    "# Central Tendencies of attributes\n",
    "\n",
    "print(\"==== Means ====\")\n",
    "print(\"Mean Value of Area (ft): \",x[\"Area (ft)\"].mean())\n",
    "print(\"Mean Value of Price: \",x[\"Price\"].mean())\n",
    "\n",
    "print(\"\\n==== Medians ====\")\n",
    "print(\"Median Value of Area (ft): \",x[\"Area (ft)\"].median())\n",
    "print(\"Median Value of Prtce: \",x[\"Price\"].median())\n",
    "\n",
    "print(\"\\n==== Standard Deviations ====\")\n",
    "print(\"Standard Deviation of Area (ft): \",x[\"Area (ft)\"].std())\n",
    "print(\"Standard Deviation of Price: \",x[\"Price\"].std())\n"
   ]
  },
  {
   "cell_type": "code",
   "execution_count": 16,
   "metadata": {},
   "outputs": [
    {
     "data": {
      "image/png": "[encoded data removed]",
      "text/plain": [
       "<Figure size 1152x648 with 2 Axes>"
      ]
     },
     "metadata": {
      "needs_background": "light"
     },
     "output_type": "display_data"
    }
   ],
   "source": [
    "# Box Plots of attributes\n",
    "\n",
    "plt.figure(figsize=(16,9))\n",
    "\n",
    "plt.subplot(1,2,1)\n",
    "plt.boxplot(x[\"Area (ft)\"])\n",
    "plt.title(\"Box Plot Of Area (ft)\",fontsize=14)\n",
    "\n",
    "plt.subplot(1,2,2)\n",
    "plt.boxplot(x[\"Price\"])\n",
    "plt.title(\"Box Plot Of Price\",fontsize=14)\n",
    "\n",
    "plt.show()"
   ]
  },
  {
   "cell_type": "markdown",
   "metadata": {},
   "source": [
    "# SPLITTING DATA INTO TRAIN AND TEST"
   ]
  },
  {
   "cell_type": "code",
   "execution_count": 238,
   "metadata": {},
   "outputs": [
    {
     "name": "stderr",
     "output_type": "stream",
     "text": [
      "C:\\Users\\hp\\Anaconda3\\lib\\site-packages\\sklearn\\model_selection\\_split.py:2026: FutureWarning: From version 0.21, test_size will always complement train_size unless both are specified.\n",
      "  FutureWarning)\n"
     ]
    }
   ],
   "source": [
    "x_train, x_test, y_train, y_test = train_test_split(x, y, random_state = 7, train_size=0.92)"
   ]
  },
  {
   "cell_type": "code",
   "execution_count": 239,
   "metadata": {},
   "outputs": [
    {
     "name": "stdout",
     "output_type": "stream",
     "text": [
      "(179, 2)\n",
      "(16, 2)\n",
      "(179,)\n",
      "(16,)\n"
     ]
    }
   ],
   "source": [
    "print(x_train.shape)\n",
    "print(x_test.shape)\n",
    "print(y_train.shape)\n",
    "print(y_test.shape)"
   ]
  },
  {
   "cell_type": "code",
   "execution_count": 240,
   "metadata": {},
   "outputs": [
    {
     "data": {
      "image/png": "[encoded data removed]",
      "text/plain": [
       "<Figure size 432x288 with 1 Axes>"
      ]
     },
     "metadata": {
      "needs_background": "light"
     },
     "output_type": "display_data"
    }
   ],
   "source": [
    "plt.title(\"X_TRAIN SCATTER\")\n",
    "plt.xlabel(\"Area (ft)\",fontsize=13)\n",
    "plt.ylabel(\"Price\",fontsize=13)\n",
    "plt.scatter(x_train[\"Area (ft)\"],x_train[\"Price\"])\n",
    "plt.show()"
   ]
  },
  {
   "cell_type": "code",
   "execution_count": 241,
   "metadata": {},
   "outputs": [
    {
     "data": {
      "text/html": [
       "<div>\n",
       "<style scoped>\n",
       "    .dataframe tbody tr th:only-of-type {\n",
       "        vertical-align: middle;\n",
       "    }\n",
       "\n",
       "    .dataframe tbody tr th {\n",
       "        vertical-align: top;\n",
       "    }\n",
       "\n",
       "    .dataframe thead th {\n",
       "        text-align: right;\n",
       "    }\n",
       "</style>\n",
       "<table border=\"1\" class=\"dataframe\">\n",
       "  <thead>\n",
       "    <tr style=\"text-align: right;\">\n",
       "      <th></th>\n",
       "      <th>Area (ft)</th>\n",
       "      <th>Price</th>\n",
       "    </tr>\n",
       "  </thead>\n",
       "  <tbody>\n",
       "    <tr>\n",
       "      <th>Area (ft)</th>\n",
       "      <td>1.000000</td>\n",
       "      <td>0.942917</td>\n",
       "    </tr>\n",
       "    <tr>\n",
       "      <th>Price</th>\n",
       "      <td>0.942917</td>\n",
       "      <td>1.000000</td>\n",
       "    </tr>\n",
       "  </tbody>\n",
       "</table>\n",
       "</div>"
      ],
      "text/plain": [
       "           Area (ft)     Price\n",
       "Area (ft)   1.000000  0.942917\n",
       "Price       0.942917  1.000000"
      ]
     },
     "execution_count": 241,
     "metadata": {},
     "output_type": "execute_result"
    }
   ],
   "source": [
    "x_train.corr()"
   ]
  },
  {
   "cell_type": "code",
   "execution_count": 242,
   "metadata": {},
   "outputs": [
    {
     "data": {
      "image/png": "[encoded data removed]",
      "text/plain": [
       "<Figure size 432x288 with 1 Axes>"
      ]
     },
     "metadata": {
      "needs_background": "light"
     },
     "output_type": "display_data"
    }
   ],
   "source": [
    "plt.title(\"X_TEST SCATTER\")\n",
    "plt.scatter(x_test[\"Area (ft)\"],x_test[\"Price\"])\n",
    "plt.xlabel(\"Area (ft)\",fontsize=13)\n",
    "plt.ylabel(\"Price\",fontsize=13)\n",
    "plt.show()"
   ]
  },
  {
   "cell_type": "code",
   "execution_count": 243,
   "metadata": {},
   "outputs": [
    {
     "data": {
      "text/html": [
       "<div>\n",
       "<style scoped>\n",
       "    .dataframe tbody tr th:only-of-type {\n",
       "        vertical-align: middle;\n",
       "    }\n",
       "\n",
       "    .dataframe tbody tr th {\n",
       "        vertical-align: top;\n",
       "    }\n",
       "\n",
       "    .dataframe thead th {\n",
       "        text-align: right;\n",
       "    }\n",
       "</style>\n",
       "<table border=\"1\" class=\"dataframe\">\n",
       "  <thead>\n",
       "    <tr style=\"text-align: right;\">\n",
       "      <th></th>\n",
       "      <th>Area (ft)</th>\n",
       "      <th>Price</th>\n",
       "    </tr>\n",
       "  </thead>\n",
       "  <tbody>\n",
       "    <tr>\n",
       "      <th>Area (ft)</th>\n",
       "      <td>1.000000</td>\n",
       "      <td>0.932295</td>\n",
       "    </tr>\n",
       "    <tr>\n",
       "      <th>Price</th>\n",
       "      <td>0.932295</td>\n",
       "      <td>1.000000</td>\n",
       "    </tr>\n",
       "  </tbody>\n",
       "</table>\n",
       "</div>"
      ],
      "text/plain": [
       "           Area (ft)     Price\n",
       "Area (ft)   1.000000  0.932295\n",
       "Price       0.932295  1.000000"
      ]
     },
     "execution_count": 243,
     "metadata": {},
     "output_type": "execute_result"
    }
   ],
   "source": [
    "x_test.corr()"
   ]
  },
  {
   "cell_type": "markdown",
   "metadata": {},
   "source": [
    "# RANDOM FOREST CLASSIFIER MODEL"
   ]
  },
  {
   "cell_type": "markdown",
   "metadata": {},
   "source": [
    "Building Model"
   ]
  },
  {
   "cell_type": "code",
   "execution_count": 244,
   "metadata": {},
   "outputs": [],
   "source": [
    "lr = RandomForestClassifier(n_estimators=5,max_features=\"sqrt\", verbose=4, criterion=\"entropy\", random_state=30, min_impurity_split=1.3)"
   ]
  },
  {
   "cell_type": "markdown",
   "metadata": {},
   "source": [
    "Fitting Train Values"
   ]
  },
  {
   "cell_type": "code",
   "execution_count": 245,
   "metadata": {},
   "outputs": [
    {
     "name": "stdout",
     "output_type": "stream",
     "text": [
      "building tree 1 of 5\n",
      "building tree 2 of 5\n",
      "building tree 3 of 5\n",
      "building tree 4 of 5\n",
      "building tree 5 of 5\n"
     ]
    },
    {
     "name": "stderr",
     "output_type": "stream",
     "text": [
      "C:\\Users\\hp\\Anaconda3\\lib\\site-packages\\sklearn\\tree\\tree.py:282: DeprecationWarning: The min_impurity_split parameter is deprecated and will be removed in version 0.21. Use the min_impurity_decrease parameter instead.\n",
      "  DeprecationWarning)\n",
      "[Parallel(n_jobs=1)]: Done   1 out of   1 | elapsed:    0.0s remaining:    0.0s\n",
      "C:\\Users\\hp\\Anaconda3\\lib\\site-packages\\sklearn\\tree\\tree.py:282: DeprecationWarning: The min_impurity_split parameter is deprecated and will be removed in version 0.21. Use the min_impurity_decrease parameter instead.\n",
      "  DeprecationWarning)\n",
      "[Parallel(n_jobs=1)]: Done   2 out of   2 | elapsed:    0.0s remaining:    0.0s\n",
      "C:\\Users\\hp\\Anaconda3\\lib\\site-packages\\sklearn\\tree\\tree.py:282: DeprecationWarning: The min_impurity_split parameter is deprecated and will be removed in version 0.21. Use the min_impurity_decrease parameter instead.\n",
      "  DeprecationWarning)\n",
      "[Parallel(n_jobs=1)]: Done   3 out of   3 | elapsed:    0.0s remaining:    0.0s\n",
      "C:\\Users\\hp\\Anaconda3\\lib\\site-packages\\sklearn\\tree\\tree.py:282: DeprecationWarning: The min_impurity_split parameter is deprecated and will be removed in version 0.21. Use the min_impurity_decrease parameter instead.\n",
      "  DeprecationWarning)\n",
      "C:\\Users\\hp\\Anaconda3\\lib\\site-packages\\sklearn\\tree\\tree.py:282: DeprecationWarning: The min_impurity_split parameter is deprecated and will be removed in version 0.21. Use the min_impurity_decrease parameter instead.\n",
      "  DeprecationWarning)\n",
      "[Parallel(n_jobs=1)]: Done   5 out of   5 | elapsed:    0.0s finished\n"
     ]
    }
   ],
   "source": [
    "m1 = lr.fit(x_train,y_train)"
   ]
  },
  {
   "cell_type": "markdown",
   "metadata": {},
   "source": [
    "Predicting Test Sets"
   ]
  },
  {
   "cell_type": "code",
   "execution_count": 246,
   "metadata": {},
   "outputs": [
    {
     "name": "stderr",
     "output_type": "stream",
     "text": [
      "[Parallel(n_jobs=1)]: Done   1 out of   1 | elapsed:    0.0s remaining:    0.0s\n",
      "[Parallel(n_jobs=1)]: Done   2 out of   2 | elapsed:    0.0s remaining:    0.0s\n",
      "[Parallel(n_jobs=1)]: Done   3 out of   3 | elapsed:    0.0s remaining:    0.0s\n",
      "[Parallel(n_jobs=1)]: Done   5 out of   5 | elapsed:    0.0s finished\n"
     ]
    }
   ],
   "source": [
    "yp1 = m1.predict(x_test)"
   ]
  },
  {
   "cell_type": "code",
   "execution_count": 247,
   "metadata": {},
   "outputs": [
    {
     "data": {
      "text/plain": [
       "array([4, 0, 4, 4, 2, 4, 3, 2, 4, 4, 2, 0, 4, 2, 4, 2], dtype=int64)"
      ]
     },
     "execution_count": 247,
     "metadata": {},
     "output_type": "execute_result"
    }
   ],
   "source": [
    "yp1"
   ]
  },
  {
   "cell_type": "markdown",
   "metadata": {},
   "source": [
    "Visualizing Output"
   ]
  },
  {
   "cell_type": "code",
   "execution_count": 248,
   "metadata": {},
   "outputs": [
    {
     "data": {
      "image/png": "[encoded data removed]",
      "text/plain": [
       "<Figure size 936x360 with 1 Axes>"
      ]
     },
     "metadata": {
      "needs_background": "light"
     },
     "output_type": "display_data"
    }
   ],
   "source": [
    "c = [i for i in range(1,17)]\n",
    "fig = plt.figure(figsize=(13,5))\n",
    "plt.plot(c,y_test, color=\"green\", linewidth=2.5, linestyle=\"-\")\n",
    "plt.plot(c,yp1, color=\"red\", linewidth=2.5, linestyle=\"-\")\n",
    "plt.title(\"Line Graph Of Actual and Predicted\", fontsize=15)\n",
    "plt.xlabel(\"\", fontsize=15)\n",
    "plt.ylabel(\"\", fontsize=15)\n",
    "plt.yticks(np.arange(0,6))\n",
    "plt.xticks(np.arange(0,17,1))\n",
    "plt.legend(labels=[\"y_test\",\"y_pred\"])\n",
    "plt.show()"
   ]
  },
  {
   "cell_type": "markdown",
   "metadata": {},
   "source": [
    "Confusion Matrix"
   ]
  },
  {
   "cell_type": "code",
   "execution_count": 249,
   "metadata": {},
   "outputs": [
    {
     "data": {
      "text/plain": [
       "array([[1, 1, 0, 0],\n",
       "       [0, 1, 0, 0],\n",
       "       [1, 2, 0, 2],\n",
       "       [0, 1, 1, 6]], dtype=int64)"
      ]
     },
     "execution_count": 249,
     "metadata": {},
     "output_type": "execute_result"
    }
   ],
   "source": [
    "cm = confusion_matrix(y_test, yp1)\n",
    "cm"
   ]
  },
  {
   "cell_type": "markdown",
   "metadata": {},
   "source": [
    "Accuracy"
   ]
  },
  {
   "cell_type": "code",
   "execution_count": 251,
   "metadata": {},
   "outputs": [
    {
     "name": "stdout",
     "output_type": "stream",
     "text": [
      "Accuracy Of Our Model:  50.0\n"
     ]
    }
   ],
   "source": [
    "acc = accuracy_score(y_test,yp1)\n",
    "acc = acc * 100\n",
    "print(\"Accuracy Of Our Model: \",acc)"
   ]
  },
  {
   "cell_type": "markdown",
   "metadata": {},
   "source": [
    "<b>Conclusion:</b>\n",
    "Due to the imbalanced classes present in the dataset, the accuracy of our Random Forest model for the House Deal Satisfaction Prediction is low. It can be resolved through different [tactics that aim to handle imbalance classes.](https://machinelearningmastery.com/tactics-to-combat-imbalanced-classes-in-your-machine-learning-dataset/) "
   ]
  }
 ],
 "metadata": {
  "kernelspec": {
   "display_name": "Python 3",
   "language": "python",
   "name": "python3"
  },
  "language_info": {
   "codemirror_mode": {
    "name": "ipython",
    "version": 3
   },
   "file_extension": ".py",
   "mimetype": "text/x-python",
   "name": "python",
   "nbconvert_exporter": "python",
   "pygments_lexer": "ipython3",
   "version": "3.7.0"
  }
 },
 "nbformat": 4,
 "nbformat_minor": 2
}
