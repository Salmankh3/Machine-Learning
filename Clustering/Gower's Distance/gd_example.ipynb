{
 "cells": [
  {
   "cell_type": "markdown",
   "metadata": {},
   "source": [
    "# CLUSTERING ON NUMERICAL AND CATEGORICAL FEATURES USING GOWER'S DISTANCE & GBSCAN"
   ]
  },
  {
   "cell_type": "markdown",
   "metadata": {},
   "source": [
    " "
   ]
  },
  {
   "cell_type": "markdown",
   "metadata": {},
   "source": [
    "<b>CREATING DATAFRAME"
   ]
  },
  {
   "cell_type": "code",
   "execution_count": 1,
   "metadata": {},
   "outputs": [],
   "source": [
    "import pandas as pd\n",
    "\n",
    "# Creating a dictionary with the data\n",
    "dictionary = {\"age\": [22, 25, 30, 38, 42, 47, 55, 62, 61, 90], \n",
    "              \"gender\": [\"M\", \"M\", \"F\", \"F\", \"F\", \"M\", \"M\", \"M\", \"M\", \"M\"], \n",
    "              \"civil_status\": [\"SINGLE\", \"SINGLE\", \"SINGLE\", \"MARRIED\", \"MARRIED\", \"SINGLE\", \"MARRIED\", \"DIVORCED\", \"MARRIED\", \"DIVORCED\"], \n",
    "              \"salary\": [18000, 23000, 27000, 32000, 34000, 20000, 40000, 42000, 25000, 70000], \n",
    "              \"has_children\": [False, False, False, True, True, False, False, False, False, True], \n",
    "              \"purchaser_type\": [\"LOW_PURCHASER\", \"LOW_PURCHASER\", \"LOW_PURCHASER\", \"HEAVY_PURCHASER\", \"HEAVY_PURCHASER\", \"LOW_PURCHASER\", \"MEDIUM_PURCHASER\", \"MEDIUM_PURCHASER\", \"MEDIUM_PURCHASER\", \"LOW_PURCHASER\"]}\n",
    "\n",
    "# Creating a Pandas DataFrame from the dictionary\n",
    "dataframe = pd.DataFrame.from_dict(dictionary)"
   ]
  },
  {
   "cell_type": "code",
   "execution_count": 2,
   "metadata": {},
   "outputs": [
    {
     "data": {
      "text/html": [
       "<div>\n",
       "<style scoped>\n",
       "    .dataframe tbody tr th:only-of-type {\n",
       "        vertical-align: middle;\n",
       "    }\n",
       "\n",
       "    .dataframe tbody tr th {\n",
       "        vertical-align: top;\n",
       "    }\n",
       "\n",
       "    .dataframe thead th {\n",
       "        text-align: right;\n",
       "    }\n",
       "</style>\n",
       "<table border=\"1\" class=\"dataframe\">\n",
       "  <thead>\n",
       "    <tr style=\"text-align: right;\">\n",
       "      <th></th>\n",
       "      <th>age</th>\n",
       "      <th>gender</th>\n",
       "      <th>civil_status</th>\n",
       "      <th>salary</th>\n",
       "      <th>has_children</th>\n",
       "      <th>purchaser_type</th>\n",
       "    </tr>\n",
       "  </thead>\n",
       "  <tbody>\n",
       "    <tr>\n",
       "      <th>0</th>\n",
       "      <td>22</td>\n",
       "      <td>M</td>\n",
       "      <td>SINGLE</td>\n",
       "      <td>18000</td>\n",
       "      <td>False</td>\n",
       "      <td>LOW_PURCHASER</td>\n",
       "    </tr>\n",
       "    <tr>\n",
       "      <th>1</th>\n",
       "      <td>25</td>\n",
       "      <td>M</td>\n",
       "      <td>SINGLE</td>\n",
       "      <td>23000</td>\n",
       "      <td>False</td>\n",
       "      <td>LOW_PURCHASER</td>\n",
       "    </tr>\n",
       "    <tr>\n",
       "      <th>2</th>\n",
       "      <td>30</td>\n",
       "      <td>F</td>\n",
       "      <td>SINGLE</td>\n",
       "      <td>27000</td>\n",
       "      <td>False</td>\n",
       "      <td>LOW_PURCHASER</td>\n",
       "    </tr>\n",
       "    <tr>\n",
       "      <th>3</th>\n",
       "      <td>38</td>\n",
       "      <td>F</td>\n",
       "      <td>MARRIED</td>\n",
       "      <td>32000</td>\n",
       "      <td>True</td>\n",
       "      <td>HEAVY_PURCHASER</td>\n",
       "    </tr>\n",
       "    <tr>\n",
       "      <th>4</th>\n",
       "      <td>42</td>\n",
       "      <td>F</td>\n",
       "      <td>MARRIED</td>\n",
       "      <td>34000</td>\n",
       "      <td>True</td>\n",
       "      <td>HEAVY_PURCHASER</td>\n",
       "    </tr>\n",
       "    <tr>\n",
       "      <th>5</th>\n",
       "      <td>47</td>\n",
       "      <td>M</td>\n",
       "      <td>SINGLE</td>\n",
       "      <td>20000</td>\n",
       "      <td>False</td>\n",
       "      <td>LOW_PURCHASER</td>\n",
       "    </tr>\n",
       "    <tr>\n",
       "      <th>6</th>\n",
       "      <td>55</td>\n",
       "      <td>M</td>\n",
       "      <td>MARRIED</td>\n",
       "      <td>40000</td>\n",
       "      <td>False</td>\n",
       "      <td>MEDIUM_PURCHASER</td>\n",
       "    </tr>\n",
       "    <tr>\n",
       "      <th>7</th>\n",
       "      <td>62</td>\n",
       "      <td>M</td>\n",
       "      <td>DIVORCED</td>\n",
       "      <td>42000</td>\n",
       "      <td>False</td>\n",
       "      <td>MEDIUM_PURCHASER</td>\n",
       "    </tr>\n",
       "    <tr>\n",
       "      <th>8</th>\n",
       "      <td>61</td>\n",
       "      <td>M</td>\n",
       "      <td>MARRIED</td>\n",
       "      <td>25000</td>\n",
       "      <td>False</td>\n",
       "      <td>MEDIUM_PURCHASER</td>\n",
       "    </tr>\n",
       "    <tr>\n",
       "      <th>9</th>\n",
       "      <td>90</td>\n",
       "      <td>M</td>\n",
       "      <td>DIVORCED</td>\n",
       "      <td>70000</td>\n",
       "      <td>True</td>\n",
       "      <td>LOW_PURCHASER</td>\n",
       "    </tr>\n",
       "  </tbody>\n",
       "</table>\n",
       "</div>"
      ],
      "text/plain": [
       "   age gender civil_status  salary  has_children    purchaser_type\n",
       "0   22      M       SINGLE   18000         False     LOW_PURCHASER\n",
       "1   25      M       SINGLE   23000         False     LOW_PURCHASER\n",
       "2   30      F       SINGLE   27000         False     LOW_PURCHASER\n",
       "3   38      F      MARRIED   32000          True   HEAVY_PURCHASER\n",
       "4   42      F      MARRIED   34000          True   HEAVY_PURCHASER\n",
       "5   47      M       SINGLE   20000         False     LOW_PURCHASER\n",
       "6   55      M      MARRIED   40000         False  MEDIUM_PURCHASER\n",
       "7   62      M     DIVORCED   42000         False  MEDIUM_PURCHASER\n",
       "8   61      M      MARRIED   25000         False  MEDIUM_PURCHASER\n",
       "9   90      M     DIVORCED   70000          True     LOW_PURCHASER"
      ]
     },
     "execution_count": 2,
     "metadata": {},
     "output_type": "execute_result"
    }
   ],
   "source": [
    "dataframe"
   ]
  },
  {
   "cell_type": "markdown",
   "metadata": {},
   "source": [
    " "
   ]
  },
  {
   "cell_type": "markdown",
   "metadata": {},
   "source": [
    "<b>INSTALLING GOWER PACKAGE"
   ]
  },
  {
   "cell_type": "code",
   "execution_count": 4,
   "metadata": {},
   "outputs": [
    {
     "name": "stdout",
     "output_type": "stream",
     "text": [
      "Collecting gower\n",
      "  Downloading https://files.pythonhosted.org/packages/98/62/dea557ca74253ff35afa6dce17c6f950ff8b7fbd3636a4df2ef0877bcf65/gower-0.0.5.tar.gz\n",
      "Requirement already satisfied: numpy in c:\\users\\hp\\anaconda3\\lib\\site-packages (from gower) (1.15.1)\n",
      "Requirement already satisfied: scipy in c:\\users\\hp\\anaconda3\\lib\\site-packages (from gower) (1.1.0)\n",
      "Building wheels for collected packages: gower\n",
      "  Running setup.py bdist_wheel for gower: started\n",
      "  Running setup.py bdist_wheel for gower: finished with status 'done'\n",
      "  Stored in directory: C:\\Users\\hp\\AppData\\Local\\pip\\Cache\\wheels\\c0\\09\\9b\\072d54d6ced0f43a179852e3f09532d0131e25ff7cb4e5ee75\n",
      "Successfully built gower\n",
      "Installing collected packages: gower\n",
      "Successfully installed gower-0.0.5\n"
     ]
    },
    {
     "name": "stderr",
     "output_type": "stream",
     "text": [
      "twisted 18.7.0 requires PyHamcrest>=1.9.0, which is not installed.\n",
      "You are using pip version 10.0.1, however version 21.1.3 is available.\n",
      "You should consider upgrading via the 'python -m pip install --upgrade pip' command.\n"
     ]
    }
   ],
   "source": [
    "!pip install gower"
   ]
  },
  {
   "cell_type": "markdown",
   "metadata": {},
   "source": [
    "  "
   ]
  },
  {
   "cell_type": "markdown",
   "metadata": {},
   "source": [
    "<b>THE OVERALL CLUSTERING PROCESS"
   ]
  },
  {
   "cell_type": "code",
   "execution_count": 60,
   "metadata": {},
   "outputs": [
    {
     "data": {
      "text/html": [
       "<div>\n",
       "<style scoped>\n",
       "    .dataframe tbody tr th:only-of-type {\n",
       "        vertical-align: middle;\n",
       "    }\n",
       "\n",
       "    .dataframe tbody tr th {\n",
       "        vertical-align: top;\n",
       "    }\n",
       "\n",
       "    .dataframe thead th {\n",
       "        text-align: right;\n",
       "    }\n",
       "</style>\n",
       "<table border=\"1\" class=\"dataframe\">\n",
       "  <thead>\n",
       "    <tr style=\"text-align: right;\">\n",
       "      <th></th>\n",
       "      <th>Customer 1</th>\n",
       "      <th>Customer 2</th>\n",
       "      <th>Customer 3</th>\n",
       "      <th>Customer 4</th>\n",
       "      <th>Customer 5</th>\n",
       "      <th>Customer 6</th>\n",
       "      <th>Customer 7</th>\n",
       "      <th>Customer 8</th>\n",
       "      <th>Customer 9</th>\n",
       "      <th>Customer 10</th>\n",
       "    </tr>\n",
       "  </thead>\n",
       "  <tbody>\n",
       "    <tr>\n",
       "      <th>Customer 1</th>\n",
       "      <td>0.000000</td>\n",
       "      <td>0.020039</td>\n",
       "      <td>0.184389</td>\n",
       "      <td>0.691123</td>\n",
       "      <td>0.705020</td>\n",
       "      <td>0.058016</td>\n",
       "      <td>0.510720</td>\n",
       "      <td>0.530920</td>\n",
       "      <td>0.482116</td>\n",
       "      <td>0.619048</td>\n",
       "    </tr>\n",
       "    <tr>\n",
       "      <th>Customer 2</th>\n",
       "      <td>0.020039</td>\n",
       "      <td>0.000000</td>\n",
       "      <td>0.164350</td>\n",
       "      <td>0.671084</td>\n",
       "      <td>0.684982</td>\n",
       "      <td>0.054460</td>\n",
       "      <td>0.490681</td>\n",
       "      <td>0.510881</td>\n",
       "      <td>0.462077</td>\n",
       "      <td>0.599009</td>\n",
       "    </tr>\n",
       "    <tr>\n",
       "      <th>Customer 3</th>\n",
       "      <td>0.184389</td>\n",
       "      <td>0.164350</td>\n",
       "      <td>0.000000</td>\n",
       "      <td>0.506733</td>\n",
       "      <td>0.520631</td>\n",
       "      <td>0.197802</td>\n",
       "      <td>0.612045</td>\n",
       "      <td>0.632245</td>\n",
       "      <td>0.594430</td>\n",
       "      <td>0.720373</td>\n",
       "    </tr>\n",
       "    <tr>\n",
       "      <th>Customer 4</th>\n",
       "      <td>0.691123</td>\n",
       "      <td>0.671084</td>\n",
       "      <td>0.506733</td>\n",
       "      <td>0.000000</td>\n",
       "      <td>0.013898</td>\n",
       "      <td>0.670922</td>\n",
       "      <td>0.533883</td>\n",
       "      <td>0.696940</td>\n",
       "      <td>0.543741</td>\n",
       "      <td>0.737449</td>\n",
       "    </tr>\n",
       "    <tr>\n",
       "      <th>Customer 5</th>\n",
       "      <td>0.705020</td>\n",
       "      <td>0.684982</td>\n",
       "      <td>0.520631</td>\n",
       "      <td>0.013898</td>\n",
       "      <td>0.000000</td>\n",
       "      <td>0.668013</td>\n",
       "      <td>0.519985</td>\n",
       "      <td>0.683042</td>\n",
       "      <td>0.540832</td>\n",
       "      <td>0.723551</td>\n",
       "    </tr>\n",
       "    <tr>\n",
       "      <th>Customer 6</th>\n",
       "      <td>0.058016</td>\n",
       "      <td>0.054460</td>\n",
       "      <td>0.197802</td>\n",
       "      <td>0.670922</td>\n",
       "      <td>0.668013</td>\n",
       "      <td>0.000000</td>\n",
       "      <td>0.452704</td>\n",
       "      <td>0.472905</td>\n",
       "      <td>0.424100</td>\n",
       "      <td>0.561032</td>\n",
       "    </tr>\n",
       "    <tr>\n",
       "      <th>Customer 7</th>\n",
       "      <td>0.510720</td>\n",
       "      <td>0.490681</td>\n",
       "      <td>0.612045</td>\n",
       "      <td>0.533883</td>\n",
       "      <td>0.519985</td>\n",
       "      <td>0.452704</td>\n",
       "      <td>0.000000</td>\n",
       "      <td>0.163058</td>\n",
       "      <td>0.053814</td>\n",
       "      <td>0.727376</td>\n",
       "    </tr>\n",
       "    <tr>\n",
       "      <th>Customer 8</th>\n",
       "      <td>0.530920</td>\n",
       "      <td>0.510881</td>\n",
       "      <td>0.632245</td>\n",
       "      <td>0.696940</td>\n",
       "      <td>0.683042</td>\n",
       "      <td>0.472905</td>\n",
       "      <td>0.163058</td>\n",
       "      <td>0.000000</td>\n",
       "      <td>0.191661</td>\n",
       "      <td>0.564318</td>\n",
       "    </tr>\n",
       "    <tr>\n",
       "      <th>Customer 9</th>\n",
       "      <td>0.482116</td>\n",
       "      <td>0.462077</td>\n",
       "      <td>0.594430</td>\n",
       "      <td>0.543741</td>\n",
       "      <td>0.540832</td>\n",
       "      <td>0.424100</td>\n",
       "      <td>0.053814</td>\n",
       "      <td>0.191661</td>\n",
       "      <td>0.000000</td>\n",
       "      <td>0.755979</td>\n",
       "    </tr>\n",
       "    <tr>\n",
       "      <th>Customer 10</th>\n",
       "      <td>0.619048</td>\n",
       "      <td>0.599009</td>\n",
       "      <td>0.720373</td>\n",
       "      <td>0.737449</td>\n",
       "      <td>0.723551</td>\n",
       "      <td>0.561032</td>\n",
       "      <td>0.727376</td>\n",
       "      <td>0.564318</td>\n",
       "      <td>0.755979</td>\n",
       "      <td>0.000000</td>\n",
       "    </tr>\n",
       "  </tbody>\n",
       "</table>\n",
       "</div>"
      ],
      "text/plain": [
       "             Customer 1  Customer 2  Customer 3  Customer 4  Customer 5  \\\n",
       "Customer 1     0.000000    0.020039    0.184389    0.691123    0.705020   \n",
       "Customer 2     0.020039    0.000000    0.164350    0.671084    0.684982   \n",
       "Customer 3     0.184389    0.164350    0.000000    0.506733    0.520631   \n",
       "Customer 4     0.691123    0.671084    0.506733    0.000000    0.013898   \n",
       "Customer 5     0.705020    0.684982    0.520631    0.013898    0.000000   \n",
       "Customer 6     0.058016    0.054460    0.197802    0.670922    0.668013   \n",
       "Customer 7     0.510720    0.490681    0.612045    0.533883    0.519985   \n",
       "Customer 8     0.530920    0.510881    0.632245    0.696940    0.683042   \n",
       "Customer 9     0.482116    0.462077    0.594430    0.543741    0.540832   \n",
       "Customer 10    0.619048    0.599009    0.720373    0.737449    0.723551   \n",
       "\n",
       "             Customer 6  Customer 7  Customer 8  Customer 9  Customer 10  \n",
       "Customer 1     0.058016    0.510720    0.530920    0.482116     0.619048  \n",
       "Customer 2     0.054460    0.490681    0.510881    0.462077     0.599009  \n",
       "Customer 3     0.197802    0.612045    0.632245    0.594430     0.720373  \n",
       "Customer 4     0.670922    0.533883    0.696940    0.543741     0.737449  \n",
       "Customer 5     0.668013    0.519985    0.683042    0.540832     0.723551  \n",
       "Customer 6     0.000000    0.452704    0.472905    0.424100     0.561032  \n",
       "Customer 7     0.452704    0.000000    0.163058    0.053814     0.727376  \n",
       "Customer 8     0.472905    0.163058    0.000000    0.191661     0.564318  \n",
       "Customer 9     0.424100    0.053814    0.191661    0.000000     0.755979  \n",
       "Customer 10    0.561032    0.727376    0.564318    0.755979     0.000000  "
      ]
     },
     "execution_count": 60,
     "metadata": {},
     "output_type": "execute_result"
    }
   ],
   "source": [
    "import gower\n",
    "\n",
    "distance_matrix = gower.gower_matrix(dataframe)\n",
    "ind_col = [\"Customer 1\",\"Customer 2\",\"Customer 3\",\"Customer 4\",\"Customer 5\",\"Customer 6\",\"Customer 7\",\"Customer 8\",\"Customer 9\",\"Customer 10\"]\n",
    "dm_df = pd.DataFrame(distance_matrix, index=ind_col, columns=ind_col)\n",
    "dm_df"
   ]
  },
  {
   "cell_type": "code",
   "execution_count": 6,
   "metadata": {},
   "outputs": [],
   "source": [
    "from sklearn.cluster import DBSCAN\n",
    "\n",
    "# Configuring the parameters of the clustering algorithm\n",
    "dbscan_cluster = DBSCAN(eps=0.3, \n",
    "                        min_samples=2, \n",
    "                        metric=\"precomputed\")"
   ]
  },
  {
   "cell_type": "code",
   "execution_count": 13,
   "metadata": {},
   "outputs": [],
   "source": [
    "# Fitting the clustering algorithm\n",
    "dbscan_cluster.fit(distance_matrix)\n",
    "\n",
    "# Adding the results to a new column in the dataframe\n",
    "dataframe[\"cluster\"] = dbscan_cluster.labels_"
   ]
  },
  {
   "cell_type": "code",
   "execution_count": 50,
   "metadata": {},
   "outputs": [
    {
     "data": {
      "text/html": [
       "<div>\n",
       "<style scoped>\n",
       "    .dataframe tbody tr th:only-of-type {\n",
       "        vertical-align: middle;\n",
       "    }\n",
       "\n",
       "    .dataframe tbody tr th {\n",
       "        vertical-align: top;\n",
       "    }\n",
       "\n",
       "    .dataframe thead th {\n",
       "        text-align: right;\n",
       "    }\n",
       "</style>\n",
       "<table border=\"1\" class=\"dataframe\">\n",
       "  <thead>\n",
       "    <tr style=\"text-align: right;\">\n",
       "      <th></th>\n",
       "      <th>age</th>\n",
       "      <th>gender</th>\n",
       "      <th>civil_status</th>\n",
       "      <th>salary</th>\n",
       "      <th>has_children</th>\n",
       "      <th>purchaser_type</th>\n",
       "      <th>cluster</th>\n",
       "    </tr>\n",
       "  </thead>\n",
       "  <tbody>\n",
       "    <tr>\n",
       "      <th>0</th>\n",
       "      <td>22</td>\n",
       "      <td>M</td>\n",
       "      <td>SINGLE</td>\n",
       "      <td>18000</td>\n",
       "      <td>False</td>\n",
       "      <td>LOW_PURCHASER</td>\n",
       "      <td>0</td>\n",
       "    </tr>\n",
       "    <tr>\n",
       "      <th>1</th>\n",
       "      <td>25</td>\n",
       "      <td>M</td>\n",
       "      <td>SINGLE</td>\n",
       "      <td>23000</td>\n",
       "      <td>False</td>\n",
       "      <td>LOW_PURCHASER</td>\n",
       "      <td>0</td>\n",
       "    </tr>\n",
       "    <tr>\n",
       "      <th>2</th>\n",
       "      <td>30</td>\n",
       "      <td>F</td>\n",
       "      <td>SINGLE</td>\n",
       "      <td>27000</td>\n",
       "      <td>False</td>\n",
       "      <td>LOW_PURCHASER</td>\n",
       "      <td>0</td>\n",
       "    </tr>\n",
       "    <tr>\n",
       "      <th>3</th>\n",
       "      <td>38</td>\n",
       "      <td>F</td>\n",
       "      <td>MARRIED</td>\n",
       "      <td>32000</td>\n",
       "      <td>True</td>\n",
       "      <td>HEAVY_PURCHASER</td>\n",
       "      <td>1</td>\n",
       "    </tr>\n",
       "    <tr>\n",
       "      <th>4</th>\n",
       "      <td>42</td>\n",
       "      <td>F</td>\n",
       "      <td>MARRIED</td>\n",
       "      <td>34000</td>\n",
       "      <td>True</td>\n",
       "      <td>HEAVY_PURCHASER</td>\n",
       "      <td>1</td>\n",
       "    </tr>\n",
       "    <tr>\n",
       "      <th>5</th>\n",
       "      <td>47</td>\n",
       "      <td>M</td>\n",
       "      <td>SINGLE</td>\n",
       "      <td>20000</td>\n",
       "      <td>False</td>\n",
       "      <td>LOW_PURCHASER</td>\n",
       "      <td>0</td>\n",
       "    </tr>\n",
       "    <tr>\n",
       "      <th>6</th>\n",
       "      <td>55</td>\n",
       "      <td>M</td>\n",
       "      <td>MARRIED</td>\n",
       "      <td>40000</td>\n",
       "      <td>False</td>\n",
       "      <td>MEDIUM_PURCHASER</td>\n",
       "      <td>2</td>\n",
       "    </tr>\n",
       "    <tr>\n",
       "      <th>7</th>\n",
       "      <td>62</td>\n",
       "      <td>M</td>\n",
       "      <td>DIVORCED</td>\n",
       "      <td>42000</td>\n",
       "      <td>False</td>\n",
       "      <td>MEDIUM_PURCHASER</td>\n",
       "      <td>2</td>\n",
       "    </tr>\n",
       "    <tr>\n",
       "      <th>8</th>\n",
       "      <td>61</td>\n",
       "      <td>M</td>\n",
       "      <td>MARRIED</td>\n",
       "      <td>25000</td>\n",
       "      <td>False</td>\n",
       "      <td>MEDIUM_PURCHASER</td>\n",
       "      <td>2</td>\n",
       "    </tr>\n",
       "    <tr>\n",
       "      <th>9</th>\n",
       "      <td>90</td>\n",
       "      <td>M</td>\n",
       "      <td>DIVORCED</td>\n",
       "      <td>70000</td>\n",
       "      <td>True</td>\n",
       "      <td>LOW_PURCHASER</td>\n",
       "      <td>-1</td>\n",
       "    </tr>\n",
       "  </tbody>\n",
       "</table>\n",
       "</div>"
      ],
      "text/plain": [
       "   age gender civil_status  salary  has_children    purchaser_type  cluster\n",
       "0   22      M       SINGLE   18000         False     LOW_PURCHASER        0\n",
       "1   25      M       SINGLE   23000         False     LOW_PURCHASER        0\n",
       "2   30      F       SINGLE   27000         False     LOW_PURCHASER        0\n",
       "3   38      F      MARRIED   32000          True   HEAVY_PURCHASER        1\n",
       "4   42      F      MARRIED   34000          True   HEAVY_PURCHASER        1\n",
       "5   47      M       SINGLE   20000         False     LOW_PURCHASER        0\n",
       "6   55      M      MARRIED   40000         False  MEDIUM_PURCHASER        2\n",
       "7   62      M     DIVORCED   42000         False  MEDIUM_PURCHASER        2\n",
       "8   61      M      MARRIED   25000         False  MEDIUM_PURCHASER        2\n",
       "9   90      M     DIVORCED   70000          True     LOW_PURCHASER       -1"
      ]
     },
     "execution_count": 50,
     "metadata": {},
     "output_type": "execute_result"
    }
   ],
   "source": [
    "dataframe"
   ]
  },
  {
   "cell_type": "markdown",
   "metadata": {},
   "source": [
    " "
   ]
  },
  {
   "cell_type": "markdown",
   "metadata": {},
   "source": [
    "<b>SOME ANALYSIS ON THE CLUSTERS"
   ]
  },
  {
   "cell_type": "code",
   "execution_count": 26,
   "metadata": {},
   "outputs": [
    {
     "data": {
      "image/png": "[encoded data removed]",
      "text/plain": [
       "<Figure size 432x288 with 1 Axes>"
      ]
     },
     "metadata": {
      "needs_background": "light"
     },
     "output_type": "display_data"
    }
   ],
   "source": [
    "import matplotlib.pyplot as plt\n",
    "import seaborn as sns\n",
    "import numpy as np\n",
    "\n",
    "c_counts = sns.countplot(dataframe.cluster, color=\"orange\")"
   ]
  },
  {
   "cell_type": "code",
   "execution_count": 36,
   "metadata": {},
   "outputs": [],
   "source": [
    "gender_grouped = dataframe.groupby(\"gender\").apply(lambda a: a.drop(\"gender\", axis=1)[:])"
   ]
  },
  {
   "cell_type": "code",
   "execution_count": 37,
   "metadata": {},
   "outputs": [
    {
     "data": {
      "text/html": [
       "<div>\n",
       "<style scoped>\n",
       "    .dataframe tbody tr th:only-of-type {\n",
       "        vertical-align: middle;\n",
       "    }\n",
       "\n",
       "    .dataframe tbody tr th {\n",
       "        vertical-align: top;\n",
       "    }\n",
       "\n",
       "    .dataframe thead th {\n",
       "        text-align: right;\n",
       "    }\n",
       "</style>\n",
       "<table border=\"1\" class=\"dataframe\">\n",
       "  <thead>\n",
       "    <tr style=\"text-align: right;\">\n",
       "      <th></th>\n",
       "      <th></th>\n",
       "      <th>age</th>\n",
       "      <th>civil_status</th>\n",
       "      <th>salary</th>\n",
       "      <th>has_children</th>\n",
       "      <th>purchaser_type</th>\n",
       "      <th>cluster</th>\n",
       "    </tr>\n",
       "    <tr>\n",
       "      <th>gender</th>\n",
       "      <th></th>\n",
       "      <th></th>\n",
       "      <th></th>\n",
       "      <th></th>\n",
       "      <th></th>\n",
       "      <th></th>\n",
       "      <th></th>\n",
       "    </tr>\n",
       "  </thead>\n",
       "  <tbody>\n",
       "    <tr>\n",
       "      <th rowspan=\"3\" valign=\"top\">F</th>\n",
       "      <th>2</th>\n",
       "      <td>30</td>\n",
       "      <td>SINGLE</td>\n",
       "      <td>27000</td>\n",
       "      <td>False</td>\n",
       "      <td>LOW_PURCHASER</td>\n",
       "      <td>0</td>\n",
       "    </tr>\n",
       "    <tr>\n",
       "      <th>3</th>\n",
       "      <td>38</td>\n",
       "      <td>MARRIED</td>\n",
       "      <td>32000</td>\n",
       "      <td>True</td>\n",
       "      <td>HEAVY_PURCHASER</td>\n",
       "      <td>1</td>\n",
       "    </tr>\n",
       "    <tr>\n",
       "      <th>4</th>\n",
       "      <td>42</td>\n",
       "      <td>MARRIED</td>\n",
       "      <td>34000</td>\n",
       "      <td>True</td>\n",
       "      <td>HEAVY_PURCHASER</td>\n",
       "      <td>1</td>\n",
       "    </tr>\n",
       "    <tr>\n",
       "      <th rowspan=\"7\" valign=\"top\">M</th>\n",
       "      <th>0</th>\n",
       "      <td>22</td>\n",
       "      <td>SINGLE</td>\n",
       "      <td>18000</td>\n",
       "      <td>False</td>\n",
       "      <td>LOW_PURCHASER</td>\n",
       "      <td>0</td>\n",
       "    </tr>\n",
       "    <tr>\n",
       "      <th>1</th>\n",
       "      <td>25</td>\n",
       "      <td>SINGLE</td>\n",
       "      <td>23000</td>\n",
       "      <td>False</td>\n",
       "      <td>LOW_PURCHASER</td>\n",
       "      <td>0</td>\n",
       "    </tr>\n",
       "    <tr>\n",
       "      <th>5</th>\n",
       "      <td>47</td>\n",
       "      <td>SINGLE</td>\n",
       "      <td>20000</td>\n",
       "      <td>False</td>\n",
       "      <td>LOW_PURCHASER</td>\n",
       "      <td>0</td>\n",
       "    </tr>\n",
       "    <tr>\n",
       "      <th>6</th>\n",
       "      <td>55</td>\n",
       "      <td>MARRIED</td>\n",
       "      <td>40000</td>\n",
       "      <td>False</td>\n",
       "      <td>MEDIUM_PURCHASER</td>\n",
       "      <td>2</td>\n",
       "    </tr>\n",
       "    <tr>\n",
       "      <th>7</th>\n",
       "      <td>62</td>\n",
       "      <td>DIVORCED</td>\n",
       "      <td>42000</td>\n",
       "      <td>False</td>\n",
       "      <td>MEDIUM_PURCHASER</td>\n",
       "      <td>2</td>\n",
       "    </tr>\n",
       "    <tr>\n",
       "      <th>8</th>\n",
       "      <td>61</td>\n",
       "      <td>MARRIED</td>\n",
       "      <td>25000</td>\n",
       "      <td>False</td>\n",
       "      <td>MEDIUM_PURCHASER</td>\n",
       "      <td>2</td>\n",
       "    </tr>\n",
       "    <tr>\n",
       "      <th>9</th>\n",
       "      <td>90</td>\n",
       "      <td>DIVORCED</td>\n",
       "      <td>70000</td>\n",
       "      <td>True</td>\n",
       "      <td>LOW_PURCHASER</td>\n",
       "      <td>-1</td>\n",
       "    </tr>\n",
       "  </tbody>\n",
       "</table>\n",
       "</div>"
      ],
      "text/plain": [
       "          age civil_status  salary  has_children    purchaser_type  cluster\n",
       "gender                                                                     \n",
       "F      2   30       SINGLE   27000         False     LOW_PURCHASER        0\n",
       "       3   38      MARRIED   32000          True   HEAVY_PURCHASER        1\n",
       "       4   42      MARRIED   34000          True   HEAVY_PURCHASER        1\n",
       "M      0   22       SINGLE   18000         False     LOW_PURCHASER        0\n",
       "       1   25       SINGLE   23000         False     LOW_PURCHASER        0\n",
       "       5   47       SINGLE   20000         False     LOW_PURCHASER        0\n",
       "       6   55      MARRIED   40000         False  MEDIUM_PURCHASER        2\n",
       "       7   62     DIVORCED   42000         False  MEDIUM_PURCHASER        2\n",
       "       8   61      MARRIED   25000         False  MEDIUM_PURCHASER        2\n",
       "       9   90     DIVORCED   70000          True     LOW_PURCHASER       -1"
      ]
     },
     "execution_count": 37,
     "metadata": {},
     "output_type": "execute_result"
    }
   ],
   "source": [
    "gender_grouped"
   ]
  },
  {
   "cell_type": "code",
   "execution_count": 42,
   "metadata": {},
   "outputs": [
    {
     "data": {
      "text/plain": [
       " 2    3\n",
       " 0    3\n",
       "-1    1\n",
       "Name: cluster, dtype: int64"
      ]
     },
     "execution_count": 42,
     "metadata": {},
     "output_type": "execute_result"
    }
   ],
   "source": [
    "# Male Cluster Counts\n",
    "\n",
    "males = dataframe[dataframe[\"gender\"]==\"M\"]\n",
    "males.cluster.value_counts()"
   ]
  },
  {
   "cell_type": "code",
   "execution_count": 48,
   "metadata": {},
   "outputs": [
    {
     "data": {
      "text/plain": [
       "Text(0.5,1,'MALE CLUSTERS')"
      ]
     },
     "execution_count": 48,
     "metadata": {},
     "output_type": "execute_result"
    },
    {
     "data": {
      "image/png": "[encoded data removed]",
      "text/plain": [
       "<Figure size 432x288 with 1 Axes>"
      ]
     },
     "metadata": {
      "needs_background": "light"
     },
     "output_type": "display_data"
    }
   ],
   "source": [
    "sns.countplot(males.cluster, color=\"blue\")\n",
    "plt.title(\"MALE CLUSTERS\")"
   ]
  },
  {
   "cell_type": "code",
   "execution_count": 45,
   "metadata": {},
   "outputs": [
    {
     "data": {
      "text/plain": [
       "1    2\n",
       "0    1\n",
       "Name: cluster, dtype: int64"
      ]
     },
     "execution_count": 45,
     "metadata": {},
     "output_type": "execute_result"
    }
   ],
   "source": [
    "# Female Cluster Counts\n",
    "\n",
    "females = dataframe[dataframe[\"gender\"]==\"F\"]\n",
    "females.cluster.value_counts()"
   ]
  },
  {
   "cell_type": "code",
   "execution_count": 47,
   "metadata": {},
   "outputs": [
    {
     "data": {
      "text/plain": [
       "Text(0.5,1,'FEMALE CLUSTERS')"
      ]
     },
     "execution_count": 47,
     "metadata": {},
     "output_type": "execute_result"
    },
    {
     "data": {
      "image/png": "[encoded data removed]",
      "text/plain": [
       "<Figure size 432x288 with 1 Axes>"
      ]
     },
     "metadata": {
      "needs_background": "light"
     },
     "output_type": "display_data"
    }
   ],
   "source": [
    "sns.countplot(females.cluster, color=\"red\")\n",
    "plt.title(\"FEMALE CLUSTERS\")"
   ]
  },
  {
   "cell_type": "markdown",
   "metadata": {},
   "source": [
    "--------------"
   ]
  }
 ],
 "metadata": {
  "kernelspec": {
   "display_name": "Python 3",
   "language": "python",
   "name": "python3"
  },
  "language_info": {
   "codemirror_mode": {
    "name": "ipython",
    "version": 3
   },
   "file_extension": ".py",
   "mimetype": "text/x-python",
   "name": "python",
   "nbconvert_exporter": "python",
   "pygments_lexer": "ipython3",
   "version": "3.7.0"
  }
 },
 "nbformat": 4,
 "nbformat_minor": 2
}
